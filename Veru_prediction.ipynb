{
 "cells": [
  {
   "cell_type": "code",
   "execution_count": 222,
   "metadata": {},
   "outputs": [],
   "source": [
    "#Importing the libraries for this project\n",
    "# artificial neural network called Long Short Term Memory to predict the future price of stock.\n",
    "import math\n",
    "import sklearn\n",
    "import tensorflow \n",
    "import matplotlib\n",
    "import keras\n",
    "import pandas_datareader as web\n",
    "import numpy as np\n",
    "import pandas as pd\n",
    "import matplotlib.pyplot as plt\n",
    "from sklearn.preprocessing import MinMaxScaler\n",
    "from keras.models import Sequential\n",
    "from keras.layers import Dense, LSTM\n",
    "\n",
    "plt.style.use('fivethirtyeight')"
   ]
  },
  {
   "cell_type": "code",
   "execution_count": 223,
   "metadata": {},
   "outputs": [
    {
     "name": "stdout",
     "output_type": "stream",
     "text": [
      "pandas_datareader 0.9.0\n",
      "numpy 1.19.2\n",
      "pandas 1.1.3\n",
      "sklearn 0.23.2\n",
      "tensorflow 2.4.0\n",
      "keras 2.4.3\n",
      "matplotlib 3.3.2\n",
      "pip 20.2.4\n"
     ]
    }
   ],
   "source": [
    "print('\\n'.join(f'{m.__name__} {m.__version__}' for m in globals().values() if getattr(m, '__version__', None)))\n"
   ]
  },
  {
   "cell_type": "code",
   "execution_count": 224,
   "metadata": {},
   "outputs": [
    {
     "data": {
      "text/html": [
       "<div>\n",
       "<style scoped>\n",
       "    .dataframe tbody tr th:only-of-type {\n",
       "        vertical-align: middle;\n",
       "    }\n",
       "\n",
       "    .dataframe tbody tr th {\n",
       "        vertical-align: top;\n",
       "    }\n",
       "\n",
       "    .dataframe thead th {\n",
       "        text-align: right;\n",
       "    }\n",
       "</style>\n",
       "<table border=\"1\" class=\"dataframe\">\n",
       "  <thead>\n",
       "    <tr style=\"text-align: right;\">\n",
       "      <th></th>\n",
       "      <th>High</th>\n",
       "      <th>Low</th>\n",
       "      <th>Open</th>\n",
       "      <th>Close</th>\n",
       "      <th>Volume</th>\n",
       "      <th>Adj Close</th>\n",
       "    </tr>\n",
       "    <tr>\n",
       "      <th>Date</th>\n",
       "      <th></th>\n",
       "      <th></th>\n",
       "      <th></th>\n",
       "      <th></th>\n",
       "      <th></th>\n",
       "      <th></th>\n",
       "    </tr>\n",
       "  </thead>\n",
       "  <tbody>\n",
       "    <tr>\n",
       "      <th>2016-01-04</th>\n",
       "      <td>1.51</td>\n",
       "      <td>1.39</td>\n",
       "      <td>1.41</td>\n",
       "      <td>1.45</td>\n",
       "      <td>77400</td>\n",
       "      <td>1.45</td>\n",
       "    </tr>\n",
       "    <tr>\n",
       "      <th>2016-01-05</th>\n",
       "      <td>1.48</td>\n",
       "      <td>1.41</td>\n",
       "      <td>1.46</td>\n",
       "      <td>1.43</td>\n",
       "      <td>34900</td>\n",
       "      <td>1.43</td>\n",
       "    </tr>\n",
       "    <tr>\n",
       "      <th>2016-01-06</th>\n",
       "      <td>1.45</td>\n",
       "      <td>1.33</td>\n",
       "      <td>1.45</td>\n",
       "      <td>1.36</td>\n",
       "      <td>162800</td>\n",
       "      <td>1.36</td>\n",
       "    </tr>\n",
       "    <tr>\n",
       "      <th>2016-01-07</th>\n",
       "      <td>1.37</td>\n",
       "      <td>1.26</td>\n",
       "      <td>1.34</td>\n",
       "      <td>1.27</td>\n",
       "      <td>115500</td>\n",
       "      <td>1.27</td>\n",
       "    </tr>\n",
       "    <tr>\n",
       "      <th>2016-01-08</th>\n",
       "      <td>1.35</td>\n",
       "      <td>1.22</td>\n",
       "      <td>1.27</td>\n",
       "      <td>1.24</td>\n",
       "      <td>93900</td>\n",
       "      <td>1.24</td>\n",
       "    </tr>\n",
       "    <tr>\n",
       "      <th>...</th>\n",
       "      <td>...</td>\n",
       "      <td>...</td>\n",
       "      <td>...</td>\n",
       "      <td>...</td>\n",
       "      <td>...</td>\n",
       "      <td>...</td>\n",
       "    </tr>\n",
       "    <tr>\n",
       "      <th>2020-12-15</th>\n",
       "      <td>11.45</td>\n",
       "      <td>8.84</td>\n",
       "      <td>11.40</td>\n",
       "      <td>9.33</td>\n",
       "      <td>65282800</td>\n",
       "      <td>9.33</td>\n",
       "    </tr>\n",
       "    <tr>\n",
       "      <th>2020-12-16</th>\n",
       "      <td>11.16</td>\n",
       "      <td>9.33</td>\n",
       "      <td>9.66</td>\n",
       "      <td>9.99</td>\n",
       "      <td>45957300</td>\n",
       "      <td>9.99</td>\n",
       "    </tr>\n",
       "    <tr>\n",
       "      <th>2020-12-17</th>\n",
       "      <td>10.02</td>\n",
       "      <td>9.02</td>\n",
       "      <td>9.93</td>\n",
       "      <td>9.30</td>\n",
       "      <td>11618500</td>\n",
       "      <td>9.30</td>\n",
       "    </tr>\n",
       "    <tr>\n",
       "      <th>2020-12-18</th>\n",
       "      <td>9.23</td>\n",
       "      <td>8.61</td>\n",
       "      <td>8.98</td>\n",
       "      <td>8.81</td>\n",
       "      <td>7793500</td>\n",
       "      <td>8.81</td>\n",
       "    </tr>\n",
       "    <tr>\n",
       "      <th>2020-12-21</th>\n",
       "      <td>9.13</td>\n",
       "      <td>8.33</td>\n",
       "      <td>8.40</td>\n",
       "      <td>8.86</td>\n",
       "      <td>4772100</td>\n",
       "      <td>8.86</td>\n",
       "    </tr>\n",
       "  </tbody>\n",
       "</table>\n",
       "<p>1252 rows × 6 columns</p>\n",
       "</div>"
      ],
      "text/plain": [
       "             High   Low   Open  Close    Volume  Adj Close\n",
       "Date                                                      \n",
       "2016-01-04   1.51  1.39   1.41   1.45     77400       1.45\n",
       "2016-01-05   1.48  1.41   1.46   1.43     34900       1.43\n",
       "2016-01-06   1.45  1.33   1.45   1.36    162800       1.36\n",
       "2016-01-07   1.37  1.26   1.34   1.27    115500       1.27\n",
       "2016-01-08   1.35  1.22   1.27   1.24     93900       1.24\n",
       "...           ...   ...    ...    ...       ...        ...\n",
       "2020-12-15  11.45  8.84  11.40   9.33  65282800       9.33\n",
       "2020-12-16  11.16  9.33   9.66   9.99  45957300       9.99\n",
       "2020-12-17  10.02  9.02   9.93   9.30  11618500       9.30\n",
       "2020-12-18   9.23  8.61   8.98   8.81   7793500       8.81\n",
       "2020-12-21   9.13  8.33   8.40   8.86   4772100       8.86\n",
       "\n",
       "[1252 rows x 6 columns]"
      ]
     },
     "execution_count": 224,
     "metadata": {},
     "output_type": "execute_result"
    }
   ],
   "source": [
    "df= web.DataReader('VERU',data_source='yahoo',start='2016-01-01', end='2020-12-21')\n",
    "#Getting the data for VERU, and showing it\n",
    "df"
   ]
  },
  {
   "cell_type": "code",
   "execution_count": 225,
   "metadata": {},
   "outputs": [
    {
     "data": {
      "text/plain": [
       "(1252, 6)"
      ]
     },
     "execution_count": 225,
     "metadata": {},
     "output_type": "execute_result"
    }
   ],
   "source": [
    "# get the amount of rows, and columns.\n",
    "df.shape\n",
    "#The data have 1254 rows, and 6 colums"
   ]
  },
  {
   "cell_type": "code",
   "execution_count": 226,
   "metadata": {},
   "outputs": [
    {
     "data": {
      "image/png": "[encoded data removed]",
      "text/plain": [
       "<Figure size 1152x576 with 1 Axes>"
      ]
     },
     "metadata": {},
     "output_type": "display_data"
    }
   ],
   "source": [
    "plt.figure(figsize=(16,8))\n",
    "plt.title('Close price History')\n",
    "plt.plot(df['Close'])\n",
    "plt.xlabel('Date',fontsize=18)\n",
    "plt.ylabel('Close Price USD ($)', fontsize=18)\n",
    "plt.show()\n",
    "#Creating a graph "
   ]
  },
  {
   "cell_type": "code",
   "execution_count": 227,
   "metadata": {},
   "outputs": [
    {
     "data": {
      "text/plain": [
       "1127"
      ]
     },
     "execution_count": 227,
     "metadata": {},
     "output_type": "execute_result"
    }
   ],
   "source": [
    "# Created a new dataframe with only the closing column\n",
    "data = df.filter(['Close'])\n",
    "#Getting the values from data and converting it to a numpy array\n",
    "dataset= data.values\n",
    "#Getting the number of rows to train the model \n",
    "training_data_len=math.ceil(len(dataset)*.9)\n",
    "training_data_len\n"
   ]
  },
  {
   "cell_type": "code",
   "execution_count": 228,
   "metadata": {},
   "outputs": [
    {
     "data": {
      "text/plain": [
       "array([[0.0687023 ],\n",
       "       [0.06652126],\n",
       "       [0.05888768],\n",
       "       ...,\n",
       "       [0.92475468],\n",
       "       [0.87131959],\n",
       "       [0.87677207]])"
      ]
     },
     "execution_count": 228,
     "metadata": {},
     "output_type": "execute_result"
    }
   ],
   "source": [
    "# Scaling the data/ we must apply pre-processing because its always advantageous.\n",
    "#pre-processing transformations scaling or normalization the input data before it is presented \n",
    "#to a neural network.\n",
    "#Its usually help the model... USUALLY\n",
    "\n",
    "scaler = MinMaxScaler(feature_range=(0,1))\n",
    "scaled_data = scaler.fit_transform(dataset)\n",
    "scaled_data"
   ]
  },
  {
   "cell_type": "code",
   "execution_count": 229,
   "metadata": {},
   "outputs": [
    {
     "name": "stdout",
     "output_type": "stream",
     "text": [
      "[array([0.0687023 , 0.06652126, 0.05888768, 0.04907306, 0.04580153,\n",
      "       0.04689204, 0.04471102, 0.04253   , 0.04253   , 0.04143948,\n",
      "       0.04689204, 0.04907306, 0.04907306, 0.04689204, 0.05125409,\n",
      "       0.05125409, 0.05452563, 0.05997819, 0.05125409, 0.05016358,\n",
      "       0.05561615, 0.06434024, 0.07742639, 0.09160305, 0.08178845,\n",
      "       0.07415486, 0.0785169 , 0.08396947, 0.08069792, 0.08505998,\n",
      "       0.08833152, 0.09814613, 0.11668484, 0.12104689, 0.11886587,\n",
      "       0.12758997, 0.12322793, 0.11777536, 0.12104689, 0.12868048,\n",
      "       0.15703381, 0.16902944, 0.16357688, 0.17339151, 0.17011997,\n",
      "       0.17993458, 0.19956381, 0.19520174, 0.18647765, 0.15485279,\n",
      "       0.15485279, 0.14067611, 0.14067611, 0.14285716, 0.13522355,\n",
      "       0.13086151, 0.12758997, 0.12649946, 0.12758997, 0.12649946])]\n",
      "[0.11450382086257127]\n",
      "\n",
      "[array([0.0687023 , 0.06652126, 0.05888768, 0.04907306, 0.04580153,\n",
      "       0.04689204, 0.04471102, 0.04253   , 0.04253   , 0.04143948,\n",
      "       0.04689204, 0.04907306, 0.04907306, 0.04689204, 0.05125409,\n",
      "       0.05125409, 0.05452563, 0.05997819, 0.05125409, 0.05016358,\n",
      "       0.05561615, 0.06434024, 0.07742639, 0.09160305, 0.08178845,\n",
      "       0.07415486, 0.0785169 , 0.08396947, 0.08069792, 0.08505998,\n",
      "       0.08833152, 0.09814613, 0.11668484, 0.12104689, 0.11886587,\n",
      "       0.12758997, 0.12322793, 0.11777536, 0.12104689, 0.12868048,\n",
      "       0.15703381, 0.16902944, 0.16357688, 0.17339151, 0.17011997,\n",
      "       0.17993458, 0.19956381, 0.19520174, 0.18647765, 0.15485279,\n",
      "       0.15485279, 0.14067611, 0.14067611, 0.14285716, 0.13522355,\n",
      "       0.13086151, 0.12758997, 0.12649946, 0.12758997, 0.12649946]), array([0.06652126, 0.05888768, 0.04907306, 0.04580153, 0.04689204,\n",
      "       0.04471102, 0.04253   , 0.04253   , 0.04143948, 0.04689204,\n",
      "       0.04907306, 0.04907306, 0.04689204, 0.05125409, 0.05125409,\n",
      "       0.05452563, 0.05997819, 0.05125409, 0.05016358, 0.05561615,\n",
      "       0.06434024, 0.07742639, 0.09160305, 0.08178845, 0.07415486,\n",
      "       0.0785169 , 0.08396947, 0.08069792, 0.08505998, 0.08833152,\n",
      "       0.09814613, 0.11668484, 0.12104689, 0.11886587, 0.12758997,\n",
      "       0.12322793, 0.11777536, 0.12104689, 0.12868048, 0.15703381,\n",
      "       0.16902944, 0.16357688, 0.17339151, 0.17011997, 0.17993458,\n",
      "       0.19956381, 0.19520174, 0.18647765, 0.15485279, 0.15485279,\n",
      "       0.14067611, 0.14067611, 0.14285716, 0.13522355, 0.13086151,\n",
      "       0.12758997, 0.12649946, 0.12758997, 0.12649946, 0.11450382])]\n",
      "[0.11450382086257127, 0.11777535544437776]\n",
      "\n"
     ]
    }
   ],
   "source": [
    "#Creating the training dataset \n",
    "#Create the scaled training data set\n",
    "train_data = scaled_data[0:training_data_len, :]\n",
    "# Spliting the data into x and y data sets\n",
    "x_train =[]\n",
    "y_train =[]\n",
    "\n",
    "for i in range(60, len(train_data)):\n",
    "    x_train.append(train_data[i-60:i,0])\n",
    "    #Zero to 59\n",
    "    y_train.append(train_data[i,0])\n",
    "    # 61 values which will be in the positions 60\n",
    "    if i<= 61:\n",
    "        print(x_train)\n",
    "        print(y_train)\n",
    "        print()"
   ]
  },
  {
   "cell_type": "code",
   "execution_count": 153,
   "metadata": {},
   "outputs": [],
   "source": [
    "#Covert the t_train and y _train to numpy arrays \n",
    "x_train, y_train = np.array(x_train),np.array(y_train)"
   ]
  },
  {
   "cell_type": "code",
   "execution_count": 154,
   "metadata": {},
   "outputs": [
    {
     "data": {
      "text/plain": [
       "(1067, 60, 1)"
      ]
     },
     "execution_count": 154,
     "metadata": {},
     "output_type": "execute_result"
    }
   ],
   "source": [
    "# Reshaping the data to get it to becoming 3-dimensional \n",
    "#since lsdm network expect a 3-dimensional dataset\n",
    "x_train = np.reshape(x_train,(x_train.shape[0],x_train.shape[1],1))\n",
    "x_train.shape"
   ]
  },
  {
   "cell_type": "code",
   "execution_count": 155,
   "metadata": {},
   "outputs": [],
   "source": [
    "#LSTM MODEL\n",
    "model=Sequential()\n",
    "model.add(LSTM(50,return_sequences=True, input_shape=(x_train.shape[1],1)))\n",
    "model.add(LSTM(50,return_sequences=False))\n",
    "model.add(Dense(25))\n",
    "model.add(Dense(1))"
   ]
  },
  {
   "cell_type": "code",
   "execution_count": 156,
   "metadata": {},
   "outputs": [],
   "source": [
    "# compiling the model\n",
    "model.compile(optimizer='adam', loss='mean_squared_error')\n",
    "# optimizer improve the loss fuctions, and the loss fuctions show how well the model is doing\n"
   ]
  },
  {
   "cell_type": "code",
   "execution_count": 157,
   "metadata": {},
   "outputs": [
    {
     "name": "stdout",
     "output_type": "stream",
     "text": [
      "1067/1067 [==============================] - 46s 38ms/step - loss: 0.0012\n"
     ]
    },
    {
     "data": {
      "text/plain": [
       "<tensorflow.python.keras.callbacks.History at 0x222ab8011f0>"
      ]
     },
     "execution_count": 157,
     "metadata": {},
     "output_type": "execute_result"
    }
   ],
   "source": [
    "#train the model\n",
    "model.fit(x_train,y_train, batch_size=1,epochs=1)\n"
   ]
  },
  {
   "cell_type": "code",
   "execution_count": 158,
   "metadata": {},
   "outputs": [],
   "source": [
    "#creating the testing data set by making a new array that contian the scaled values from the index 1069\n",
    "test_data = scaled_data[training_data_len-60:,:]\n",
    "x_test=[]\n",
    "y_test=dataset[training_data_len:, :]\n",
    "\n",
    "for i in range(60,len(test_data)):\n",
    "    x_test.append(test_data[i-60:i,0])"
   ]
  },
  {
   "cell_type": "code",
   "execution_count": 159,
   "metadata": {},
   "outputs": [
    {
     "data": {
      "text/plain": [
       "array([[0.26717558, 0.24863686, 0.24645583, ..., 0.28462379, 0.25845149,\n",
       "        0.28244277],\n",
       "       [0.24863686, 0.24645583, 0.23882225, ..., 0.25845149, 0.28244277,\n",
       "        0.28353328],\n",
       "       [0.24645583, 0.23882225, 0.25081788, ..., 0.28244277, 0.28353328,\n",
       "        0.26063251],\n",
       "       ...,\n",
       "       [0.20174483, 0.19738279, 0.1919302 , ..., 0.96837514, 0.92802619,\n",
       "        1.        ],\n",
       "       [0.19738279, 0.1919302 , 0.1984733 , ..., 0.92802619, 1.        ,\n",
       "        0.92475468],\n",
       "       [0.1919302 , 0.1984733 , 0.19302072, ..., 1.        , 0.92475468,\n",
       "        0.87131959]])"
      ]
     },
     "execution_count": 159,
     "metadata": {},
     "output_type": "execute_result"
    }
   ],
   "source": [
    "#Covert the data to a numpy array\n",
    "x_test = np.array(x_test)\n",
    "x_test"
   ]
  },
  {
   "cell_type": "code",
   "execution_count": 160,
   "metadata": {},
   "outputs": [
    {
     "data": {
      "text/plain": [
       "array([[[0.26717558],\n",
       "        [0.24863686],\n",
       "        [0.24645583],\n",
       "        ...,\n",
       "        [0.28462379],\n",
       "        [0.25845149],\n",
       "        [0.28244277]],\n",
       "\n",
       "       [[0.24863686],\n",
       "        [0.24645583],\n",
       "        [0.23882225],\n",
       "        ...,\n",
       "        [0.25845149],\n",
       "        [0.28244277],\n",
       "        [0.28353328]],\n",
       "\n",
       "       [[0.24645583],\n",
       "        [0.23882225],\n",
       "        [0.25081788],\n",
       "        ...,\n",
       "        [0.28244277],\n",
       "        [0.28353328],\n",
       "        [0.26063251]],\n",
       "\n",
       "       ...,\n",
       "\n",
       "       [[0.20174483],\n",
       "        [0.19738279],\n",
       "        [0.1919302 ],\n",
       "        ...,\n",
       "        [0.96837514],\n",
       "        [0.92802619],\n",
       "        [1.        ]],\n",
       "\n",
       "       [[0.19738279],\n",
       "        [0.1919302 ],\n",
       "        [0.1984733 ],\n",
       "        ...,\n",
       "        [0.92802619],\n",
       "        [1.        ],\n",
       "        [0.92475468]],\n",
       "\n",
       "       [[0.1919302 ],\n",
       "        [0.1984733 ],\n",
       "        [0.19302072],\n",
       "        ...,\n",
       "        [1.        ],\n",
       "        [0.92475468],\n",
       "        [0.87131959]]])"
      ]
     },
     "execution_count": 160,
     "metadata": {},
     "output_type": "execute_result"
    }
   ],
   "source": [
    "#Reshaping the data\n",
    "x_test = np.reshape(x_test,(x_test.shape[0],x_test.shape[1],1))\n",
    "x_test"
   ]
  },
  {
   "cell_type": "code",
   "execution_count": 161,
   "metadata": {},
   "outputs": [],
   "source": [
    "#Get the model predicted price values \n",
    "predictions = model.predict(x_test)\n",
    "predictions = scaler.inverse_transform(predictions)"
   ]
  },
  {
   "cell_type": "code",
   "execution_count": 162,
   "metadata": {},
   "outputs": [
    {
     "data": {
      "text/plain": [
       "0.8042214486270874"
      ]
     },
     "execution_count": 162,
     "metadata": {},
     "output_type": "execute_result"
    }
   ],
   "source": [
    "#Get the root mean squared error RMSE\n",
    "rmse = np.sqrt(((predictions - y_test) ** 2).mean())\n",
    "rmse"
   ]
  },
  {
   "cell_type": "code",
   "execution_count": 163,
   "metadata": {},
   "outputs": [
    {
     "data": {
      "image/png": "[encoded data removed]",
      "text/plain": [
       "<Figure size 1152x576 with 1 Axes>"
      ]
     },
     "metadata": {},
     "output_type": "display_data"
    }
   ],
   "source": [
    "#plot the data\n",
    "train=data[:training_data_len]\n",
    "valid=data[training_data_len:].copy()\n",
    "valid['Predictions'] = predictions \n",
    "#Visulatziation of the data\n",
    "plt.figure(figsize=(16,8))\n",
    "plt.title('Model')\n",
    "plt.xlabel('Date', fontsize=18)\n",
    "plt.ylabel('Close Price USD ($)', fontsize=18)\n",
    "plt.plot(train['Close'])\n",
    "plt.plot(valid[['Close','Predictions']])\n",
    "plt.legend(['Train','Val','Predictions'],loc=\"lower right\")\n",
    "plt.show()"
   ]
  },
  {
   "cell_type": "code",
   "execution_count": 164,
   "metadata": {},
   "outputs": [
    {
     "data": {
      "text/html": [
       "<div>\n",
       "<style scoped>\n",
       "    .dataframe tbody tr th:only-of-type {\n",
       "        vertical-align: middle;\n",
       "    }\n",
       "\n",
       "    .dataframe tbody tr th {\n",
       "        vertical-align: top;\n",
       "    }\n",
       "\n",
       "    .dataframe thead th {\n",
       "        text-align: right;\n",
       "    }\n",
       "</style>\n",
       "<table border=\"1\" class=\"dataframe\">\n",
       "  <thead>\n",
       "    <tr style=\"text-align: right;\">\n",
       "      <th></th>\n",
       "      <th>Close</th>\n",
       "      <th>Predictions</th>\n",
       "    </tr>\n",
       "    <tr>\n",
       "      <th>Date</th>\n",
       "      <th></th>\n",
       "      <th></th>\n",
       "    </tr>\n",
       "  </thead>\n",
       "  <tbody>\n",
       "    <tr>\n",
       "      <th>2020-06-25</th>\n",
       "      <td>3.42</td>\n",
       "      <td>3.235239</td>\n",
       "    </tr>\n",
       "    <tr>\n",
       "      <th>2020-06-26</th>\n",
       "      <td>3.21</td>\n",
       "      <td>3.242594</td>\n",
       "    </tr>\n",
       "    <tr>\n",
       "      <th>2020-06-29</th>\n",
       "      <td>3.43</td>\n",
       "      <td>3.224072</td>\n",
       "    </tr>\n",
       "    <tr>\n",
       "      <th>2020-06-30</th>\n",
       "      <td>3.34</td>\n",
       "      <td>3.227553</td>\n",
       "    </tr>\n",
       "    <tr>\n",
       "      <th>2020-07-01</th>\n",
       "      <td>3.36</td>\n",
       "      <td>3.227976</td>\n",
       "    </tr>\n",
       "    <tr>\n",
       "      <th>...</th>\n",
       "      <td>...</td>\n",
       "      <td>...</td>\n",
       "    </tr>\n",
       "    <tr>\n",
       "      <th>2020-12-15</th>\n",
       "      <td>9.33</td>\n",
       "      <td>5.347454</td>\n",
       "    </tr>\n",
       "    <tr>\n",
       "      <th>2020-12-16</th>\n",
       "      <td>9.99</td>\n",
       "      <td>6.446591</td>\n",
       "    </tr>\n",
       "    <tr>\n",
       "      <th>2020-12-17</th>\n",
       "      <td>9.30</td>\n",
       "      <td>7.476451</td>\n",
       "    </tr>\n",
       "    <tr>\n",
       "      <th>2020-12-18</th>\n",
       "      <td>8.81</td>\n",
       "      <td>8.196893</td>\n",
       "    </tr>\n",
       "    <tr>\n",
       "      <th>2020-12-21</th>\n",
       "      <td>8.86</td>\n",
       "      <td>8.583275</td>\n",
       "    </tr>\n",
       "  </tbody>\n",
       "</table>\n",
       "<p>125 rows × 2 columns</p>\n",
       "</div>"
      ],
      "text/plain": [
       "            Close  Predictions\n",
       "Date                          \n",
       "2020-06-25   3.42     3.235239\n",
       "2020-06-26   3.21     3.242594\n",
       "2020-06-29   3.43     3.224072\n",
       "2020-06-30   3.34     3.227553\n",
       "2020-07-01   3.36     3.227976\n",
       "...           ...          ...\n",
       "2020-12-15   9.33     5.347454\n",
       "2020-12-16   9.99     6.446591\n",
       "2020-12-17   9.30     7.476451\n",
       "2020-12-18   8.81     8.196893\n",
       "2020-12-21   8.86     8.583275\n",
       "\n",
       "[125 rows x 2 columns]"
      ]
     },
     "execution_count": 164,
     "metadata": {},
     "output_type": "execute_result"
    }
   ],
   "source": [
    "#show the valid and the predicted prices \n",
    "valid"
   ]
  },
  {
   "cell_type": "code",
   "execution_count": 169,
   "metadata": {},
   "outputs": [
    {
     "name": "stdout",
     "output_type": "stream",
     "text": [
      "[[8.583275]]\n"
     ]
    }
   ],
   "source": [
    "#Lets predict the price for jan\n",
    "veru_qutoes= web.DataReader('VERU',data_source='yahoo',start='2016-01-01', end='2020-12-18')\n",
    "# New df\n",
    "new_df = veru_qutoes.filter(['Close'])\n",
    "#Getting the last 60 days closing price\n",
    "last_60_days = new_df[-60:].values\n",
    "#Scale the data\n",
    "last_60_days_scaled=scaler.transform(last_60_days)\n",
    "#empty list\n",
    "X_test=[]\n",
    "#Append the past 60 days\n",
    "X_test.append(last_60_days_scaled)\n",
    "#Convering to numpay, and 3d for the LSTM\n",
    "X_test= np.array(X_test)\n",
    "X_test= np.reshape(X_test,(X_test.shape[0],X_test.shape[1],1))\n",
    "pred_prices= model.predict(X_test)\n",
    "#undo the scaling\n",
    "pred_prices = scaler.inverse_transform(pred_prices)\n",
    "print(pred_prices)"
   ]
  },
  {
   "cell_type": "code",
   "execution_count": 170,
   "metadata": {},
   "outputs": [
    {
     "name": "stdout",
     "output_type": "stream",
     "text": [
      "Date\n",
      "2016-01-04    1.45\n",
      "2016-01-05    1.43\n",
      "2016-01-06    1.36\n",
      "2016-01-07    1.27\n",
      "2016-01-08    1.24\n",
      "              ... \n",
      "2020-12-15    9.33\n",
      "2020-12-16    9.99\n",
      "2020-12-17    9.30\n",
      "2020-12-18    8.81\n",
      "2020-12-21    8.86\n",
      "Name: Close, Length: 1252, dtype: float64\n"
     ]
    }
   ],
   "source": [
    "veru_qutoes2= web.DataReader('VERU',data_source='yahoo',start='2016-01-01', end='2020-12-21')\n",
    "print(veru_qutoes2['Close'])"
   ]
  },
  {
   "cell_type": "code",
   "execution_count": null,
   "metadata": {},
   "outputs": [],
   "source": []
  }
 ],
 "metadata": {
  "kernelspec": {
   "display_name": "Python 3",
   "language": "python",
   "name": "python3"
  },
  "language_info": {
   "codemirror_mode": {
    "name": "ipython",
    "version": 3
   },
   "file_extension": ".py",
   "mimetype": "text/x-python",
   "name": "python",
   "nbconvert_exporter": "python",
   "pygments_lexer": "ipython3",
   "version": "3.8.5"
  }
 },
 "nbformat": 4,
 "nbformat_minor": 4
}
